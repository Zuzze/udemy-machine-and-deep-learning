{
 "cells": [
  {
   "cell_type": "markdown",
   "metadata": {},
   "source": [
    "# Mean, Median, Mode, and introducing NumPy"
   ]
  },
  {
   "cell_type": "markdown",
   "metadata": {},
   "source": [
    "## Mean vs. Median"
   ]
  },
  {
   "cell_type": "markdown",
   "metadata": {},
   "source": [
    "Let's create some fake income data, centered around 27,000 with a normal distribution and standard deviation of 15,000, with 10,000 data points. (We'll discuss those terms more later, if you're not familiar with them.)\n",
    "\n",
    "Then, compute the mean (average) - it should be close to 27,000:"
   ]
  },
  {
   "cell_type": "code",
   "execution_count": 7,
   "metadata": {},
   "outputs": [
    {
     "data": {
      "text/plain": [
       "26916.01698503944"
      ]
     },
     "execution_count": 7,
     "metadata": {},
     "output_type": "execute_result"
    }
   ],
   "source": [
    "import numpy as np\n",
    "\n",
    "incomes = np.random.normal(27000, 15000, 10000)\n",
    "np.mean(incomes)"
   ]
  },
  {
   "cell_type": "markdown",
   "metadata": {},
   "source": [
    "We can segment the income data into 50 buckets, and plot it as a histogram:"
   ]
  },
  {
   "cell_type": "code",
   "execution_count": 3,
   "metadata": {},
   "outputs": [
    {
     "data": {
      "image/png": "[encoded data removed]",
      "text/plain": [
       "<Figure size 432x288 with 1 Axes>"
      ]
     },
     "metadata": {
      "needs_background": "light"
     },
     "output_type": "display_data"
    }
   ],
   "source": [
    "%matplotlib inline\n",
    "import matplotlib.pyplot as plt\n",
    "#number of buckets 50\n",
    "plt.hist(incomes, 50)\n",
    "plt.show()"
   ]
  },
  {
   "cell_type": "markdown",
   "metadata": {},
   "source": [
    "Now compute the median - since we have a nice, even distribution it too should be close to 27,000:"
   ]
  },
  {
   "cell_type": "code",
   "execution_count": 6,
   "metadata": {},
   "outputs": [
    {
     "data": {
      "text/plain": [
       "27207.210013323984"
      ]
     },
     "execution_count": 6,
     "metadata": {},
     "output_type": "execute_result"
    }
   ],
   "source": [
    "np.median(incomes)"
   ]
  },
  {
   "cell_type": "markdown",
   "metadata": {},
   "source": [
    "Now we'll add Jeff Bezos into the mix. Darn income inequality!"
   ]
  },
  {
   "cell_type": "code",
   "execution_count": 10,
   "metadata": {},
   "outputs": [],
   "source": [
    "incomes = np.append(incomes, [1000000000])"
   ]
  },
  {
   "cell_type": "markdown",
   "metadata": {},
   "source": [
    "The median won't change much, but the mean does:"
   ]
  },
  {
   "cell_type": "code",
   "execution_count": 9,
   "metadata": {},
   "outputs": [
    {
     "data": {
      "text/plain": [
       "26765.40397172288"
      ]
     },
     "execution_count": 9,
     "metadata": {},
     "output_type": "execute_result"
    }
   ],
   "source": [
    "np.median(incomes)"
   ]
  },
  {
   "cell_type": "code",
   "execution_count": 11,
   "metadata": {},
   "outputs": [
    {
     "data": {
      "text/plain": [
       "126903.3266523742"
      ]
     },
     "execution_count": 11,
     "metadata": {},
     "output_type": "execute_result"
    }
   ],
   "source": [
    "np.mean(incomes)"
   ]
  },
  {
   "cell_type": "markdown",
   "metadata": {},
   "source": [
    "## Mode"
   ]
  },
  {
   "cell_type": "markdown",
   "metadata": {},
   "source": [
    "Next, let's generate some fake age data for 500 people:"
   ]
  },
  {
   "cell_type": "code",
   "execution_count": 16,
   "metadata": {},
   "outputs": [
    {
     "data": {
      "text/plain": [
       "array([51, 35, 79, 39, 41, 39, 30, 84, 20, 71, 28, 30, 74, 36, 36, 84, 45,\n",
       "       24, 36, 45, 43, 62, 61, 59, 24, 42, 72, 53, 81, 39, 55, 42, 42, 67,\n",
       "       85, 32, 33, 84, 67, 70, 42, 81, 31, 70, 31, 82, 87, 75, 71, 34, 32,\n",
       "       25, 70, 64, 60, 72, 81, 23, 36, 61, 47, 39, 44, 45, 19, 38, 83, 81,\n",
       "       77, 48, 27, 64, 29, 79, 86, 88, 88, 82, 85, 36, 27, 29, 25, 18, 25,\n",
       "       74, 85, 63, 56, 89, 71, 50, 21, 21, 83, 67, 18, 57, 37, 38, 23, 23,\n",
       "       55, 52, 57, 22, 59, 79, 54, 48, 80, 56, 46, 58, 31, 70, 86, 67, 26,\n",
       "       57, 67, 41, 83, 75, 61, 25, 53, 39, 21, 55, 23, 19, 18, 84, 31, 23,\n",
       "       20, 47, 67, 19, 36, 54, 78, 50, 74, 32, 81, 85, 64, 18, 33, 50, 76,\n",
       "       72, 26, 22, 34, 40, 36, 57, 24, 54, 45, 57, 27, 83, 65, 53, 22, 65,\n",
       "       71, 67, 68, 43, 62, 50, 60, 23, 26, 79, 30, 67, 44, 32, 19, 61, 32,\n",
       "       68, 38, 58, 83, 75, 88, 79, 45, 36, 60, 59, 31, 63, 43, 52, 71, 27,\n",
       "       20, 48, 34, 62, 59, 38, 48, 36, 49, 56, 35, 30, 78, 29, 22, 70, 37,\n",
       "       28, 24, 74, 18, 31, 43, 62, 89, 46, 45, 21, 31, 32, 68, 80, 81, 41,\n",
       "       46, 39, 42, 45, 53, 52, 38, 49, 75, 42, 59, 69, 72, 75, 45, 60, 29,\n",
       "       23, 72, 38, 54, 79, 80, 39, 41, 66, 71, 69, 78, 48, 34, 31, 61, 61,\n",
       "       25, 32, 79, 77, 38, 50, 32, 64, 80, 88, 61, 72, 47, 79, 33, 67, 87,\n",
       "       40, 86, 26, 89, 38, 70, 44, 32, 36, 83, 55, 64, 22, 52, 78, 22, 28,\n",
       "       60, 39, 57, 86, 87, 80, 43, 40, 75, 74, 68, 31, 73, 18, 51, 88, 25,\n",
       "       74, 79, 76, 81, 34, 84, 51, 74, 43, 85, 85, 43, 33, 80, 55, 66, 19,\n",
       "       40, 69, 58, 84, 66, 57, 63, 56, 67, 82, 43, 68, 64, 27, 52, 73, 59,\n",
       "       19, 64, 39, 54, 54, 48, 38, 25, 39, 38, 35, 18, 52, 72, 18, 18, 86,\n",
       "       40, 70, 33, 32, 77, 65, 48, 72, 82, 88, 23, 43, 31, 56, 38, 31, 54,\n",
       "       25, 53, 32, 51, 24, 82, 81, 23, 69, 75, 19, 58, 55, 55, 72, 29, 73,\n",
       "       25, 72, 81, 76, 49, 38, 80, 39, 32, 82, 26, 57, 51, 57, 22, 41, 73,\n",
       "       40, 75, 41, 75, 57, 51, 44, 48, 44, 25, 88, 43, 18, 21, 61, 56, 70,\n",
       "       32, 54, 23, 40, 62, 33, 32, 72, 70, 76, 75, 82, 54, 75, 86, 41, 67,\n",
       "       78, 57, 55, 49, 56, 20, 36, 23, 24, 74, 24, 42, 87, 72, 50, 31, 88,\n",
       "       87, 47, 80, 73, 36, 28, 29, 59, 71, 60, 28, 35, 75, 23, 81, 81, 39,\n",
       "       52, 30, 33, 48, 21, 20, 87])"
      ]
     },
     "execution_count": 16,
     "metadata": {},
     "output_type": "execute_result"
    }
   ],
   "source": [
    "ages = np.random.randint(18, high=90, size=500)\n",
    "ages"
   ]
  },
  {
   "cell_type": "code",
   "execution_count": 17,
   "metadata": {},
   "outputs": [
    {
     "data": {
      "text/plain": [
       "ModeResult(mode=array([32]), count=array([14]))"
      ]
     },
     "execution_count": 17,
     "metadata": {},
     "output_type": "execute_result"
    }
   ],
   "source": [
    "from scipy import stats\n",
    "stats.mode(ages)"
   ]
  },
  {
   "cell_type": "code",
   "execution_count": null,
   "metadata": {},
   "outputs": [],
   "source": []
  }
 ],
 "metadata": {
  "kernelspec": {
   "display_name": "Python 3",
   "language": "python",
   "name": "python3"
  },
  "language_info": {
   "codemirror_mode": {
    "name": "ipython",
    "version": 3
   },
   "file_extension": ".py",
   "mimetype": "text/x-python",
   "name": "python",
   "nbconvert_exporter": "python",
   "pygments_lexer": "ipython3",
   "version": "3.8.3"
  }
 },
 "nbformat": 4,
 "nbformat_minor": 1
}
